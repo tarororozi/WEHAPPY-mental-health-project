{
 "cells": [
  {
   "cell_type": "code",
   "execution_count": 267,
   "metadata": {},
   "outputs": [],
   "source": [
    "#import modules\n",
    "from flask import Flask, render_template, request, redirect, url_for, session,jsonify\n",
    "from flask_bcrypt import Bcrypt\n",
    "from pymongo import MongoClient\n",
    "import secrets\n",
    "import psycopg\n",
    "from datetime import datetime\n",
    "from psycopg import sql"
   ]
  },
  {
   "cell_type": "code",
   "execution_count": 268,
   "metadata": {},
   "outputs": [],
   "source": [
    "#create flask connection\n",
    "app = Flask(__name__)\n",
    "app.secret_key = secrets.token_urlsafe(16)  # Generate a random key\n",
    "\n",
    "#set bvrypt for later password authentication\n",
    "bcrypt = Bcrypt(app)\n",
    "#create mongo connection\n",
    "client = MongoClient('mongodb://localhost:27017/')\n",
    "db = client['user_database']\n",
    "users_collection= db['users']"
   ]
  },
  {
   "cell_type": "code",
   "execution_count": 269,
   "metadata": {},
   "outputs": [],
   "source": [
    "#add default password to all users in mongo(stores unmodified data- prevents password from being changed accidentaly in sql) since users now did not went through registration process\n",
    "def add_passwords_to_users():\n",
    "    users_without_password = users_collection.find({'password': {'$exists': False}})\n",
    "    \n",
    "    for user in users_without_password:\n",
    "        plain_password = 'defaultPassword123'  \n",
    "        hashed_password = bcrypt.hashpw(plain_password.encode('utf-8'), bcrypt.gensalt()).decode('utf-8')\n",
    "        \n",
    "        users_collection.update_one(\n",
    "            {'_id': user['_id']},\n",
    "            {'$set': {'password': hashed_password}}\n",
    "        )\n",
    "        print(f\"Updated password for {user['username']}\")\n",
    "\n",
    "add_passwords_to_users()"
   ]
  },
  {
   "cell_type": "code",
   "execution_count": 270,
   "metadata": {},
   "outputs": [],
   "source": [
    "#login page creation\n",
    "@app.route('/login', methods=['GET', 'POST'])\n",
    "def login_page():\n",
    "    if request.method == \"POST\":\n",
    "        #seperate doctor login since only one doctor now\n",
    "        if request.form['action'] == 'doctor_login':\n",
    "            return redirect(url_for('api_doc'))\n",
    "        \n",
    "        #rewuest username and password\n",
    "        username = request.form['username']\n",
    "        plain_password = request.form['password']\n",
    "        user = users_collection.find_one({'username': username})\n",
    "        \n",
    "        # Use the Bcrypt extension to check the password\n",
    "        if user and bcrypt.check_password_hash(user['password'], plain_password):\n",
    "            session['username'] = user['username']\n",
    "            return redirect(url_for('home_page'))\n",
    "        else:\n",
    "            return 'Invalid username or password'\n",
    "    return render_template('login.html')\n"
   ]
  },
  {
   "cell_type": "code",
   "execution_count": 271,
   "metadata": {},
   "outputs": [],
   "source": [
    "#doctor home page\n",
    "@app.route('/api_doc')\n",
    "def api_doc():\n",
    "    return render_template('api-doc.html')"
   ]
  },
  {
   "cell_type": "code",
   "execution_count": 272,
   "metadata": {},
   "outputs": [],
   "source": [
    "#user home page if user in current database\n",
    "@app.route('/')\n",
    "def home_page():\n",
    "    if 'username' in session:\n",
    "        return render_template(\"api.html\",username=session['username'])\n",
    "    else:\n",
    "        return redirect(url_for('login_page'))\n"
   ]
  },
  {
   "cell_type": "code",
   "execution_count": 273,
   "metadata": {},
   "outputs": [],
   "source": [
    "#create postgresql connection for late ruse\n",
    "def get_db_connection():\n",
    "    conn = psycopg.connect(\n",
    "        host=\"localhost\",\n",
    "        port='5432',\n",
    "        dbname=\"5400api\",\n",
    "        user=\"postgres\",\n",
    "        password=\"123\"\n",
    "    )\n",
    "    return conn\n"
   ]
  },
  {
   "cell_type": "code",
   "execution_count": 274,
   "metadata": {},
   "outputs": [],
   "source": [
    "#info page gets data from sql and post on web\n",
    "@app.route('/info')\n",
    "def info_page():\n",
    "    if 'username' in session:\n",
    "        username = session['username']\n",
    "        conn = get_db_connection()\n",
    "        cur = conn.cursor()\n",
    "        cur.execute(\"SELECT * FROM user_data WHERE patient_id = %s\", (username,))\n",
    "        user_data = cur.fetchall()\n",
    "        cur.close()\n",
    "        conn.close()\n",
    "        return render_template(\"info.html\", user_data=user_data)\n",
    "    else:\n",
    "        # If no user is in session, redirect to the login page\n",
    "        return redirect(url_for('login_page'))\n"
   ]
  },
  {
   "cell_type": "code",
   "execution_count": 275,
   "metadata": {},
   "outputs": [],
   "source": [
    "#create user feeling table- collects real-time data for user submitte feelings\n",
    "def init_db():\n",
    "    conn = get_db_connection()\n",
    "    cur = conn.cursor()\n",
    "    # Create table if it does not exist\n",
    "    cur.execute(sql.SQL(\"\"\"\n",
    "        CREATE TABLE IF NOT EXISTS user_feelings (\n",
    "            id SERIAL PRIMARY KEY,\n",
    "            username VARCHAR(255),\n",
    "            status VARCHAR(50),\n",
    "            date DATE,\n",
    "            time TIME\n",
    "        );\n",
    "    \"\"\"))\n",
    "    conn.commit()\n",
    "    cur.close()\n",
    "    conn.close()"
   ]
  },
  {
   "cell_type": "code",
   "execution_count": 276,
   "metadata": {},
   "outputs": [],
   "source": [
    "#record user feelings and insert into db\n",
    "@app.route('/record_feeling', methods=['POST'])\n",
    "def record_feeling():\n",
    "    if 'username' not in session:\n",
    "        return jsonify({'error': 'not authenticated'}), 401\n",
    "\n",
    "    data = request.json\n",
    "    status = data['status']\n",
    "    username = session['username']\n",
    "    now = datetime.now()\n",
    "    date=now.date()\n",
    "    time = now.strftime('%H:%M') \n",
    "\n",
    "    conn = get_db_connection()\n",
    "    cur = conn.cursor()\n",
    "    cur.execute(\"INSERT INTO user_feelings (username, status, date, time) VALUES (%s, %s, %s, %s)\",\n",
    "            (username, status, date, time))\n",
    "    conn.commit()\n",
    "    cur.close()\n",
    "    conn.close()\n",
    "    \n",
    "    return jsonify({'message': 'Feeling recorded successfully'}), 200"
   ]
  },
  {
   "cell_type": "code",
   "execution_count": 277,
   "metadata": {},
   "outputs": [],
   "source": [
    "#setup process\n",
    "@app.before_first_request\n",
    "def setup():\n",
    "    init_db()"
   ]
  },
  {
   "cell_type": "code",
   "execution_count": 278,
   "metadata": {},
   "outputs": [],
   "source": [
    "#status page contains all current feelings of user\n",
    "@app.route('/status')\n",
    "def status_page():\n",
    "    if 'username' in session:\n",
    "        username = session['username']\n",
    "        conn = get_db_connection()\n",
    "        cur = conn.cursor()\n",
    "        today_date = datetime.now().date()\n",
    "\n",
    "        # Adjusted the query to match the new table schema with separate date and time columns\n",
    "        cur.execute(\"SELECT * FROM user_feelings WHERE username = %s AND date = %s\", (username, today_date))\n",
    "        user_data = cur.fetchall()\n",
    "        cur.close()\n",
    "        conn.close()\n",
    "        return render_template(\"status.html\", user_data=user_data)\n",
    "    else:\n",
    "        # If no user is in session, redirect to the login page\n",
    "        return redirect(url_for('login_page'))\n"
   ]
  },
  {
   "cell_type": "code",
   "execution_count": 279,
   "metadata": {},
   "outputs": [],
   "source": [
    "#records page contains all past feeling data for user\n",
    "@app.route('/records')\n",
    "def records_page():\n",
    "    if 'username' in session:\n",
    "        username = session['username']\n",
    "        conn = get_db_connection()\n",
    "        cur = conn.cursor()\n",
    "        cur.execute(\"SELECT * FROM user_feelings WHERE username = %s\", (username,))\n",
    "        user_data = cur.fetchall()\n",
    "        cur.close()\n",
    "        conn.close()\n",
    "        return render_template(\"records.html\", user_data=user_data)\n",
    "    else:\n",
    "        # If no user is in session, redirect to the login page\n",
    "        return redirect(url_for('login_page'))\n",
    "\n",
    "    "
   ]
  },
  {
   "cell_type": "code",
   "execution_count": 280,
   "metadata": {},
   "outputs": [],
   "source": [
    "#other general features of web app\n",
    "@app.route('/settings')\n",
    "def settings_page():\n",
    "    return render_template(\"settings.html\")\n",
    "@app.route('/support')\n",
    "def support_page():\n",
    "    return render_template(\"support.html\")\n",
    "#redirects user to login page once logged out\n",
    "@app.route('/logout')\n",
    "def logout():\n",
    "    session.pop('username', None)\n",
    "    return redirect(url_for('login_page'))"
   ]
  },
  {
   "cell_type": "code",
   "execution_count": 281,
   "metadata": {},
   "outputs": [],
   "source": [
    "#info page for doctor- contains all patient data\n",
    "@app.route('/info_doc')\n",
    "def info_doc():\n",
    "    conn = get_db_connection()\n",
    "    cur = conn.cursor()\n",
    "    cur.execute(\"SELECT * FROM user_data\")\n",
    "    user_data = cur.fetchall()\n",
    "    cur.close()\n",
    "    conn.close()\n",
    "    return render_template(\"info-doc.html\", user_data=user_data)"
   ]
  },
  {
   "cell_type": "code",
   "execution_count": 282,
   "metadata": {},
   "outputs": [],
   "source": [
    "#status page contains all current predictions using different models for each patient\n",
    "@app.route('/status_doc')\n",
    "def status_doc():\n",
    "    return render_template(\"status-doc.html\")\n",
    "#records page contains all past data-training models for each patient \n",
    "@app.route('/records_doc')\n",
    "def records_doc():\n",
    "    return render_template(\"records-doc.html\")\n",
    "@app.route('/settings_doc')\n",
    "def settings_doc():\n",
    "    return render_template(\"settings-doc.html\")\n",
    "@app.route('/support_doc')\n",
    "def menu_doc():\n",
    "    return render_template(\"menu-doc.html\")\n",
    "@app.route('/statusab_doc')\n",
    "def statusab_doc():\n",
    "    return render_template(\"statusab-doc.html\")\n",
    "@app.route('/statuslda_doc')\n",
    "def statuslda_doc():\n",
    "    return render_template(\"statuslda-doc.html\")"
   ]
  },
  {
   "cell_type": "code",
   "execution_count": 283,
   "metadata": {},
   "outputs": [
    {
     "name": "stdout",
     "output_type": "stream",
     "text": [
      " * Serving Flask app '__main__'\n",
      " * Debug mode: off\n"
     ]
    },
    {
     "name": "stderr",
     "output_type": "stream",
     "text": [
      "WARNING: This is a development server. Do not use it in a production deployment. Use a production WSGI server instead.\n",
      " * Running on http://localhost:1271\n",
      "Press CTRL+C to quit\n",
      "127.0.0.1 - - [17/Apr/2024 23:56:55] \"GET / HTTP/1.1\" 302 -\n",
      "127.0.0.1 - - [17/Apr/2024 23:56:55] \"GET /login HTTP/1.1\" 200 -\n",
      "127.0.0.1 - - [17/Apr/2024 23:56:55] \"GET /static/css/login_style.css HTTP/1.1\" 304 -\n",
      "127.0.0.1 - - [17/Apr/2024 23:56:55] \"GET /highLightTitle.png HTTP/1.1\" 404 -\n",
      "127.0.0.1 - - [17/Apr/2024 23:56:59] \"POST /login HTTP/1.1\" 302 -\n",
      "127.0.0.1 - - [17/Apr/2024 23:56:59] \"GET / HTTP/1.1\" 200 -\n",
      "127.0.0.1 - - [17/Apr/2024 23:56:59] \"GET /image.webp HTTP/1.1\" 404 -\n",
      "127.0.0.1 - - [17/Apr/2024 23:56:59] \"GET /static/css/style.css HTTP/1.1\" 304 -\n",
      "127.0.0.1 - - [17/Apr/2024 23:57:00] \"GET /highLightTitle.png HTTP/1.1\" 404 -\n",
      "127.0.0.1 - - [17/Apr/2024 23:57:01] \"GET /status HTTP/1.1\" 200 -\n",
      "127.0.0.1 - - [17/Apr/2024 23:57:01] \"GET /image.webp HTTP/1.1\" 404 -\n",
      "127.0.0.1 - - [17/Apr/2024 23:57:01] \"GET /static/css/info_style.css HTTP/1.1\" 200 -\n",
      "127.0.0.1 - - [17/Apr/2024 23:57:01] \"GET /highLightTitle.png HTTP/1.1\" 404 -\n"
     ]
    }
   ],
   "source": [
    "\n",
    "#run\n",
    "if __name__ == '__main__':\n",
    "    app.run(host='localhost', port=1271)"
   ]
  },
  {
   "cell_type": "code",
   "execution_count": null,
   "metadata": {},
   "outputs": [],
   "source": []
  }
 ],
 "metadata": {
  "kernelspec": {
   "display_name": "Python 3 (ipykernel)",
   "language": "python",
   "name": "python3"
  },
  "language_info": {
   "codemirror_mode": {
    "name": "ipython",
    "version": 3
   },
   "file_extension": ".py",
   "mimetype": "text/x-python",
   "name": "python",
   "nbconvert_exporter": "python",
   "pygments_lexer": "ipython3",
   "version": "3.11.7"
  }
 },
 "nbformat": 4,
 "nbformat_minor": 2
}
