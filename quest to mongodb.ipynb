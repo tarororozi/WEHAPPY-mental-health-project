{
 "cells": [
  {
   "cell_type": "code",
   "execution_count": 1,
   "id": "3425a319",
   "metadata": {},
   "outputs": [
    {
     "name": "stdout",
     "output_type": "stream",
     "text": [
      "Data from surveys S2 to S11 has been inserted into MongoDB.\n"
     ]
    }
   ],
   "source": [
    "import os\n",
    "import pandas as pd\n",
    "from pymongo import MongoClient\n",
    "\n",
    "# Parses and structures the data from a DataFrame based on given item names and row range.\n",
    "def parse_and_structure_data(data, item_names, start_row, end_row):\n",
    "    structured_data = []\n",
    "    for index in range(start_row, end_row + 1):\n",
    "        parts = data.iloc[index].dropna().tolist()\n",
    "        if len(parts) > len(item_names):\n",
    "            parts = parts[:len(item_names)]\n",
    "        structured_data.append(dict(zip(item_names, parts)))\n",
    "    return structured_data\n",
    "\n",
    "# Processes a survey CSV file, parses different sections using predefined item names, and inserts the parsed data into MongoDB.\n",
    "def process_survey(directory, filename, db, collection_prefix):\n",
    "    file_path = os.path.join(directory, filename)\n",
    "    data = pd.read_csv(file_path, delimiter=';')\n",
    "    \n",
    "    # Item names for each quest\n",
    "    panas_items = [\"Active\", \"Distressed\", \"Interested\", \"Inspired\", \"Annoyed\", \"Strong\", \"Guilty\", \"Scared\", \"Hostile\", \"Excited\", \"Proud\", \"Irritable\", \"Enthusiastic\", \"Ashamed\", \"Alert\", \"Nervous\", \"Determined\", \"Attentive\", \"Jittery\", \"Afraid\", \"Stressed\", \"Frustrated\", \"Happy\", \"Angry\", \"Irritated\", \"Sad\"]\n",
    "    stai_items = [\"I feel at ease\", \"I feel nervous\", \"I am jittery\", \"I am relaxed\", \"I am worried\", \"I feel pleasant\"]\n",
    "    dim_items = [\"Dimension 1\", \"Dimension 2\"] \n",
    "    sssq_items = [\"Committed\", \"Motivated\", \"Reflected\", \"Concerned\"]\n",
    "    \n",
    "    # Parse each section of the survey and structure the data\n",
    "    structured_panas_data = parse_and_structure_data(data, panas_items, 5, 10)\n",
    "    structured_stai_data = parse_and_structure_data(data, stai_items, 11, 15)\n",
    "    structured_dim_data = parse_and_structure_data(data, dim_items, 16, 18)\n",
    "    structured_sssq_data = parse_and_structure_data(data, sssq_items, 19, 22)\n",
    "    \n",
    "    # Insert structured data into MongoDB\n",
    "    collection_name = f\"{collection_prefix}_responses\"\n",
    "    collection = db[collection_name]\n",
    "    collection.insert_many(structured_panas_data + structured_stai_data + structured_dim_data + structured_sssq_data)\n",
    "\n",
    "client = MongoClient('mongodb://localhost:27017/')\n",
    "db = client['questionnaire_database']\n",
    "\n",
    "# Survey base directory, adjust if needed\n",
    "base_directory = '/Users/jwu/Documents/5400/WESAD'\n",
    "\n",
    "for i in range(2, 12): \n",
    "    directory = f'S{i}'\n",
    "    survey_directory_path = os.path.join(base_directory, directory)\n",
    "    filename = f'{directory.lower()}_quest.csv'\n",
    "    process_survey(survey_directory_path, filename, db, directory.lower())\n",
    "\n",
    "print(\"Data from surveys S2 to S11 has been inserted into MongoDB.\")"
   ]
  },
  {
   "cell_type": "code",
   "execution_count": 8,
   "id": "c5961ad1",
   "metadata": {},
   "outputs": [
    {
     "name": "stdout",
     "output_type": "stream",
     "text": [
      "{'_id': ObjectId('66199ca233664641d48cad2a'), 'Active': '# PANAS', 'Distressed': '3', 'Interested': '2', 'Inspired': '4', 'Annoyed': '1', 'Strong': '3', 'Guilty': '3', 'Scared': '1', 'Hostile': 2.0, 'Excited': 1.0, 'Proud': 4.0, 'Irritable': 2.0, 'Enthusiastic': 4.0, 'Ashamed': 3.0, 'Alert': 1.0, 'Nervous': 5.0, 'Determined': 4.0, 'Attentive': 4.0, 'Jittery': 4.0, 'Afraid': 2.0, 'Stressed': 3.0, 'Frustrated': 3.0, 'Happy': 3.0, 'Angry': 2.0, 'Irritated': 1.0, 'Sad': 3.0}\n",
      "{'_id': ObjectId('66199ca233664641d48cad2b'), 'Active': '# PANAS', 'Distressed': '1', 'Interested': '1', 'Inspired': '2', 'Annoyed': '3', 'Strong': '1', 'Guilty': '2', 'Scared': '1', 'Hostile': 1.0, 'Excited': 1.0, 'Proud': 1.0, 'Irritable': 1.0, 'Enthusiastic': 1.0, 'Ashamed': 3.0, 'Alert': 1.0, 'Nervous': 2.0, 'Determined': 1.0, 'Attentive': 2.0, 'Jittery': 3.0, 'Afraid': 1.0, 'Stressed': 1.0, 'Frustrated': 1.0, 'Happy': 1.0, 'Angry': 4.0, 'Irritated': 1.0}\n",
      "{'_id': ObjectId('66199ca233664641d48cad2c'), 'Active': '# PANAS', 'Distressed': '1', 'Interested': '1', 'Inspired': '2', 'Annoyed': '3', 'Strong': '1', 'Guilty': '1', 'Scared': '1', 'Hostile': 1.0, 'Excited': 1.0, 'Proud': 1.0, 'Irritable': 1.0, 'Enthusiastic': 1.0, 'Ashamed': 2.0, 'Alert': 1.0, 'Nervous': 4.0, 'Determined': 1.0, 'Attentive': 1.0, 'Jittery': 3.0, 'Afraid': 1.0, 'Stressed': 1.0, 'Frustrated': 1.0, 'Happy': 2.0, 'Angry': 3.0, 'Irritated': 1.0}\n",
      "{'_id': ObjectId('66199ca233664641d48cad2d'), 'Active': '# PANAS', 'Distressed': '1', 'Interested': '1', 'Inspired': '1', 'Annoyed': '2', 'Strong': '1', 'Guilty': '1', 'Scared': '1', 'Hostile': 1.0, 'Excited': 1.0, 'Proud': 1.0, 'Irritable': 1.0, 'Enthusiastic': 1.0, 'Ashamed': 2.0, 'Alert': 1.0, 'Nervous': 2.0, 'Determined': 1.0, 'Attentive': 1.0, 'Jittery': 2.0, 'Afraid': 1.0, 'Stressed': 1.0, 'Frustrated': 1.0, 'Happy': 1.0, 'Angry': 3.0, 'Irritated': 1.0}\n",
      "{'_id': ObjectId('66199ca233664641d48cad2e')}\n",
      "{'_id': ObjectId('66199ca233664641d48cad2f'), 'Active': '# STAI', 'Distressed': '3', 'Interested': '2', 'Inspired': '1', 'Annoyed': '4', 'Strong': '2', 'Guilty': '3'}\n",
      "{'_id': ObjectId('66199ca233664641d48cad30'), 'I feel at ease': '# STAI', 'I feel nervous': '1', 'I am jittery': '3', 'I am relaxed': '2', 'I am worried': '1', 'I feel pleasant': '3'}\n",
      "{'_id': ObjectId('66199ca233664641d48cad31'), 'I feel at ease': '# STAI', 'I feel nervous': '4', 'I am jittery': '1', 'I am relaxed': '1', 'I am worried': '4', 'I feel pleasant': '2'}\n",
      "{'_id': ObjectId('66199ca233664641d48cad32'), 'I feel at ease': '# STAI', 'I feel nervous': '3', 'I am jittery': '1', 'I am relaxed': '1', 'I am worried': '3', 'I feel pleasant': '1'}\n",
      "{'_id': ObjectId('66199ca233664641d48cad33'), 'I feel at ease': '# STAI', 'I feel nervous': '4', 'I am jittery': '1', 'I am relaxed': '1', 'I am worried': '4', 'I feel pleasant': '1'}\n",
      "{'_id': ObjectId('66199ca233664641d48cad34')}\n",
      "{'_id': ObjectId('66199ca233664641d48cad35'), 'Dimension 1': '# DIM', 'Dimension 2': '7'}\n",
      "{'_id': ObjectId('66199ca233664641d48cad36'), 'Dimension 1': '# DIM', 'Dimension 2': '5'}\n",
      "{'_id': ObjectId('66199ca233664641d48cad37'), 'Dimension 1': '# DIM', 'Dimension 2': '7'}\n",
      "{'_id': ObjectId('66199ca233664641d48cad38'), 'Committed': '# DIM', 'Motivated': '8', 'Reflected': '1'}\n",
      "{'_id': ObjectId('66199ca233664641d48cad39'), 'Committed': '# DIM', 'Motivated': '7', 'Reflected': '2'}\n",
      "{'_id': ObjectId('66199ca233664641d48cad3a')}\n",
      "{'_id': ObjectId('66199ca233664641d48cad3b'), 'Committed': '# SSSQ', 'Motivated': '5', 'Reflected': '5', 'Concerned': '4'}\n"
     ]
    }
   ],
   "source": [
    "collection = db['s2_responses'] # Change name to see other surveys, for exp., s3_responses, s4_responses\n",
    "documents = collection.find()\n",
    "\n",
    "for doc in documents:\n",
    "    print(doc)"
   ]
  }
 ],
 "metadata": {
  "kernelspec": {
   "display_name": "Python 3 (ipykernel)",
   "language": "python",
   "name": "python3"
  },
  "language_info": {
   "codemirror_mode": {
    "name": "ipython",
    "version": 3
   },
   "file_extension": ".py",
   "mimetype": "text/x-python",
   "name": "python",
   "nbconvert_exporter": "python",
   "pygments_lexer": "ipython3",
   "version": "3.11.4"
  }
 },
 "nbformat": 4,
 "nbformat_minor": 5
}
