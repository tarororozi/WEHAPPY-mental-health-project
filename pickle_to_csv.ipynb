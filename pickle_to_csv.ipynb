{
 "cells": [
  {
   "cell_type": "code",
   "execution_count": 40,
   "id": "d0945c83",
   "metadata": {},
   "outputs": [],
   "source": [
    "import os\n",
    "import pickle\n",
    "#set path\n",
    "main_path = '/Users/talia/Desktop/infos/columbia/5400py/untitled folder/WESAD'\n",
    "file_name = 'S11'\n",
    "\n",
    "#file size too large, process individually\n",
    "file_path = os.path.join(main_path, file_name, file_name + '.pkl')\n",
    "with open(file_path, 'rb') as file:\n",
    "    try:\n",
    "        data = pickle.load(file, encoding='latin1')\n",
    "    except Exception as e:\n",
    "        print(f\"Error: {e}\")"
   ]
  },
  {
   "cell_type": "code",
   "execution_count": 41,
   "id": "cae4e0a7",
   "metadata": {},
   "outputs": [],
   "source": [
    "import pandas as pd"
   ]
  },
  {
   "cell_type": "code",
   "execution_count": 42,
   "id": "45b64e29",
   "metadata": {},
   "outputs": [],
   "source": [
    "#make chest signals into csv\n",
    "for sensor, readings in data['signal']['chest'].items():\n",
    "    # Create a DataFrame from the sensor readings\n",
    "    df = pd.DataFrame(readings)\n",
    "    # Save the DataFrame to a CSV file\n",
    "    csv_file_path = os.path.join(main_path, f\"{file_name}_{sensor}.csv\")\n",
    "    df.to_csv(csv_file_path, index=False)"
   ]
  },
  {
   "cell_type": "code",
   "execution_count": 43,
   "id": "e13a196e",
   "metadata": {},
   "outputs": [],
   "source": [
    "#make wrist data into csv\n",
    "for sensor, readings in data['signal']['wrist'].items():\n",
    "    # Create a DataFrame from the sensor readings\n",
    "    df = pd.DataFrame(readings)\n",
    "    # Save the DataFrame to a CSV file\n",
    "    csv_file_path = os.path.join(main_path, f\"{file_name}_{sensor}_wrist.csv\")\n",
    "    df.to_csv(csv_file_path, index=False)"
   ]
  },
  {
   "cell_type": "code",
   "execution_count": 44,
   "id": "59dd17fa",
   "metadata": {},
   "outputs": [],
   "source": [
    "#make label into csv\n",
    "if 'label' in data:\n",
    "    df = pd.DataFrame(data['label'], columns=['label'])\n",
    "    csv_file_path = os.path.join(main_path, f\"{file_name}_label.csv\")\n",
    "    df.to_csv(csv_file_path, index=False)"
   ]
  },
  {
   "cell_type": "code",
   "execution_count": 2,
   "id": "327a371a",
   "metadata": {},
   "outputs": [
    {
     "name": "stdout",
     "output_type": "stream",
     "text": [
      "{'signal': {'chest': {'ACC': array([[ 0.95539999, -0.222     , -0.55799997],\n",
      "       [ 0.92579997, -0.2216    , -0.55379999],\n",
      "       [ 0.90820003, -0.21960002, -0.53920001],\n",
      "       ...,\n",
      "       [ 0.87179995, -0.12379998, -0.30419999],\n",
      "       [ 0.87300003, -0.12339997, -0.30260003],\n",
      "       [ 0.87020004, -0.12199998, -0.30220002]]), 'ECG': array([[ 0.02142334],\n",
      "       [ 0.02032471],\n",
      "       [ 0.01652527],\n",
      "       ...,\n",
      "       [-0.00544739],\n",
      "       [ 0.00013733],\n",
      "       [ 0.0040741 ]]), 'EMG': array([[-0.00444031],\n",
      "       [ 0.00434875],\n",
      "       [ 0.00517273],\n",
      "       ...,\n",
      "       [-0.01716614],\n",
      "       [-0.02897644],\n",
      "       [-0.02357483]]), 'EDA': array([[5.25054932],\n",
      "       [5.26733398],\n",
      "       [5.24330139],\n",
      "       ...,\n",
      "       [0.36048889],\n",
      "       [0.36582947],\n",
      "       [0.365448  ]]), 'Temp': array([[30.120758],\n",
      "       [30.129517],\n",
      "       [30.138214],\n",
      "       ...,\n",
      "       [31.459229],\n",
      "       [31.484283],\n",
      "       [31.456268]], dtype=float32), 'Resp': array([[-1.14898682],\n",
      "       [-1.12457275],\n",
      "       [-1.15203857],\n",
      "       ...,\n",
      "       [-1.10321045],\n",
      "       [-1.08642578],\n",
      "       [-1.09710693]])}, 'wrist': {'ACC': array([[ 62., -21., 107.],\n",
      "       [ 66.,  13.,  53.],\n",
      "       [ 41.,   9.,  15.],\n",
      "       ...,\n",
      "       [ 41.,  25.,  11.],\n",
      "       [ 39.,  27.,  22.],\n",
      "       [ 56.,  26.,  10.]]), 'BVP': array([[-59.37],\n",
      "       [-53.42],\n",
      "       [-44.4 ],\n",
      "       ...,\n",
      "       [ 18.26],\n",
      "       [ 18.68],\n",
      "       [ 19.71]]), 'EDA': array([[1.138257],\n",
      "       [1.125444],\n",
      "       [1.011405],\n",
      "       ...,\n",
      "       [0.059208],\n",
      "       [0.073303],\n",
      "       [0.045113]]), 'TEMP': array([[35.41],\n",
      "       [35.41],\n",
      "       [35.41],\n",
      "       ...,\n",
      "       [34.23],\n",
      "       [34.23],\n",
      "       [34.23]])}}, 'label': array([0, 0, 0, ..., 0, 0, 0], dtype=int32), 'subject': 'S2'}\n"
     ]
    }
   ],
   "source": [
    "#examine data\n",
    "print(data)"
   ]
  },
  {
   "cell_type": "code",
   "execution_count": null,
   "id": "8db00bca",
   "metadata": {},
   "outputs": [],
   "source": []
  }
 ],
 "metadata": {
  "kernelspec": {
   "display_name": "Python 3 (ipykernel)",
   "language": "python",
   "name": "python3"
  },
  "language_info": {
   "codemirror_mode": {
    "name": "ipython",
    "version": 3
   },
   "file_extension": ".py",
   "mimetype": "text/x-python",
   "name": "python",
   "nbconvert_exporter": "python",
   "pygments_lexer": "ipython3",
   "version": "3.11.5"
  }
 },
 "nbformat": 4,
 "nbformat_minor": 5
}
